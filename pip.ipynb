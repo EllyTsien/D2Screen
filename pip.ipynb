{
 "cells": [
  {
   "cell_type": "code",
   "execution_count": 1,
   "metadata": {},
   "outputs": [
    {
     "name": "stdout",
     "output_type": "stream",
     "text": [
      "安装完成\n"
     ]
    }
   ],
   "source": [
    "# 安装必要的第三方库\n",
    "from IPython.display import clear_output\n",
    "!pip install --upgrade pip\n",
    "!pip install rdkit\n",
    "!pip install scikit-learn==1.0.2\n",
    "!pip install -U scipy\n",
    "!pip install -U seaborn\n",
    "!pip install pgl==2.2.3\n",
    "!pip install -U numpy\n",
    "clear_output()\n",
    "print('安装完成')"
   ]
  },
  {
   "cell_type": "code",
   "execution_count": 2,
   "metadata": {},
   "outputs": [
    {
     "name": "stdout",
     "output_type": "stream",
     "text": [
      "Looking in indexes: https://mirror.baidu.com/pypi/simple/, https://mirrors.aliyun.com/pypi/simple/\n",
      "Collecting meeko\n",
      "  Downloading https://mirrors.aliyun.com/pypi/packages/e6/68/0fb8cfde91aac2fdb8377048043c70f1d7630bcdeb08398b0308c612ee53/meeko-0.5.1-py3-none-any.whl (129 kB)\n",
      "\u001b[2K     \u001b[90m━━━━━━━━━━━━━━━━━━━━━━━━━━━━━━━━━━━━━━━\u001b[0m \u001b[32m130.0/130.0 kB\u001b[0m \u001b[31m2.5 MB/s\u001b[0m eta \u001b[36m0:00:00\u001b[0ma \u001b[36m0:00:01\u001b[0m\n",
      "\u001b[?25hRequirement already satisfied: numpy>=1.18 in /opt/conda/envs/python35-paddle120-env/lib/python3.7/site-packages (from meeko) (1.21.6)\n",
      "Installing collected packages: meeko\n",
      "Successfully installed meeko-0.5.1\n"
     ]
    }
   ],
   "source": [
    "! pip install meeko\n"
   ]
  },
  {
   "cell_type": "code",
   "execution_count": 3,
   "metadata": {},
   "outputs": [
    {
     "name": "stdout",
     "output_type": "stream",
     "text": [
      "Looking in indexes: https://mirror.baidu.com/pypi/simple/, https://mirrors.aliyun.com/pypi/simple/\n",
      "Requirement already satisfied: numpy in /opt/conda/envs/python35-paddle120-env/lib/python3.7/site-packages (1.21.6)\n",
      "\u001b[33mWARNING: Skipping page https://mirror.baidu.com/pypi/simple/numpy/ because the GET request got Content-Type: application/octet-stream. The only supported Content-Types are application/vnd.pypi.simple.v1+json, application/vnd.pypi.simple.v1+html, and text/html\u001b[0m\u001b[33m\n",
      "\u001b[0mCollecting vina\n",
      "  Downloading https://mirrors.aliyun.com/pypi/packages/c0/36/9e1235a16e1293b924baa487e743e28a6ba7728040e0a7a5709bd196b5a0/vina-1.2.5-cp37-cp37m-manylinux_2_17_x86_64.manylinux2014_x86_64.whl (7.3 MB)\n",
      "\u001b[2K     \u001b[90m━━━━━━━━━━━━━━━━━━━━━━━━━━━━━━━━━━━━━━━━\u001b[0m \u001b[32m7.3/7.3 MB\u001b[0m \u001b[31m2.1 MB/s\u001b[0m eta \u001b[36m0:00:00\u001b[0m00:01\u001b[0m00:01\u001b[0m\n",
      "\u001b[?25hInstalling collected packages: vina\n",
      "Successfully installed vina-1.2.5\n"
     ]
    }
   ],
   "source": [
    "! pip install -U numpy vina"
   ]
  },
  {
   "cell_type": "code",
   "execution_count": 1,
   "metadata": {},
   "outputs": [
    {
     "name": "stdout",
     "output_type": "stream",
     "text": [
      "^C\n"
     ]
    }
   ],
   "source": [
    "#download datasets\n",
    "! scp bob@10.21.55.65:/home/redmol/Documents/05.ZINC20_druglike/1_ZINC20_data_list.pkl /home/aistudio/dl_docking_pipline/datasets/ZINC20_processed/"
   ]
  }
 ],
 "metadata": {
  "kernelspec": {
   "display_name": "Python 3.7.4 ('python35-paddle120-env')",
   "language": "python",
   "name": "python3"
  },
  "language_info": {
   "codemirror_mode": {
    "name": "ipython",
    "version": 3
   },
   "file_extension": ".py",
   "mimetype": "text/x-python",
   "name": "python",
   "nbconvert_exporter": "python",
   "pygments_lexer": "ipython3",
   "version": "3.7.4"
  },
  "vscode": {
   "interpreter": {
    "hash": "09f0dbf7b1569c1ab842ae2f41770fe6aa1b54326d081112fa5944b99abb5899"
   }
  }
 },
 "nbformat": 4,
 "nbformat_minor": 2
}
