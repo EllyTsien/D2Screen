{
 "cells": [
  {
   "cell_type": "code",
   "execution_count": 1,
   "metadata": {},
   "outputs": [
    {
     "name": "stdout",
     "output_type": "stream",
     "text": [
      "安装完成\n"
     ]
    }
   ],
   "source": [
    "# 安装必要的第三方库\n",
    "from IPython.display import clear_output\n",
    "!pip install --upgrade pip\n",
    "!pip install rdkit\n",
    "!pip install scikit-learn==1.0.2\n",
    "!pip install -U scipy\n",
    "!pip install -U seaborn\n",
    "!pip install pgl==2.2.3\n",
    "!pip install -U numpy\n",
    "clear_output()\n",
    "print('安装完成')"
   ]
  },
  {
   "cell_type": "code",
   "execution_count": 2,
   "metadata": {},
   "outputs": [
    {
     "name": "stdout",
     "output_type": "stream",
     "text": [
      "Looking in indexes: https://mirror.baidu.com/pypi/simple/, https://mirrors.aliyun.com/pypi/simple/\n",
      "Collecting meeko\n",
      "  Downloading https://mirrors.aliyun.com/pypi/packages/e6/68/0fb8cfde91aac2fdb8377048043c70f1d7630bcdeb08398b0308c612ee53/meeko-0.5.1-py3-none-any.whl (129 kB)\n",
      "\u001b[2K     \u001b[90m━━━━━━━━━━━━━━━━━━━━━━━━━━━━━━━━━━━━━━━\u001b[0m \u001b[32m130.0/130.0 kB\u001b[0m \u001b[31m3.0 MB/s\u001b[0m eta \u001b[36m0:00:00\u001b[0ma \u001b[36m0:00:01\u001b[0m\n",
      "\u001b[?25hRequirement already satisfied: numpy>=1.18 in /opt/conda/envs/python35-paddle120-env/lib/python3.7/site-packages (from meeko) (1.21.6)\n",
      "Installing collected packages: meeko\n",
      "Successfully installed meeko-0.5.1\n"
     ]
    }
   ],
   "source": [
    "! pip install meeko\n"
   ]
  },
  {
   "cell_type": "code",
   "execution_count": 3,
   "metadata": {},
   "outputs": [
    {
     "name": "stdout",
     "output_type": "stream",
     "text": [
      "Looking in indexes: https://mirror.baidu.com/pypi/simple/, https://mirrors.aliyun.com/pypi/simple/\n",
      "Requirement already satisfied: numpy in /opt/conda/envs/python35-paddle120-env/lib/python3.7/site-packages (1.21.6)\n",
      "\u001b[33mWARNING: Skipping page https://mirror.baidu.com/pypi/simple/numpy/ because the GET request got Content-Type: application/octet-stream. The only supported Content-Types are application/vnd.pypi.simple.v1+json, application/vnd.pypi.simple.v1+html, and text/html\u001b[0m\u001b[33m\n",
      "\u001b[0mCollecting vina\n",
      "  Downloading https://mirrors.aliyun.com/pypi/packages/c0/36/9e1235a16e1293b924baa487e743e28a6ba7728040e0a7a5709bd196b5a0/vina-1.2.5-cp37-cp37m-manylinux_2_17_x86_64.manylinux2014_x86_64.whl (7.3 MB)\n",
      "\u001b[2K     \u001b[90m━━━━━━━━━━━━━━━━━━━━━━━━━━━━━━━━━━━━━━━━\u001b[0m \u001b[32m7.3/7.3 MB\u001b[0m \u001b[31m5.7 MB/s\u001b[0m eta \u001b[36m0:00:00\u001b[0m00:01\u001b[0m00:01\u001b[0m\n",
      "\u001b[?25hInstalling collected packages: vina\n",
      "Successfully installed vina-1.2.5\n"
     ]
    }
   ],
   "source": [
    "! pip install -U numpy vina"
   ]
  },
  {
   "cell_type": "code",
   "execution_count": 4,
   "metadata": {},
   "outputs": [
    {
     "name": "stdout",
     "output_type": "stream",
     "text": [
      "Looking in indexes: https://mirror.baidu.com/pypi/simple/, https://mirrors.aliyun.com/pypi/simple/\n",
      "Collecting plip\n",
      "  Downloading https://mirrors.aliyun.com/pypi/packages/db/ee/1b08608fcbe712117bf675f54e13ee52648f75a2cb844c7e3641413319ba/plip-2.3.0-py3-none-any.whl (94 kB)\n",
      "\u001b[2K     \u001b[90m━━━━━━━━━━━━━━━━━━━━━━━━━━━━━━━━━━━━━━━━\u001b[0m \u001b[32m94.4/94.4 kB\u001b[0m \u001b[31m2.7 MB/s\u001b[0m eta \u001b[36m0:00:00\u001b[0m\n",
      "\u001b[?25hCollecting openbabel (from plip)\n",
      "  Downloading https://mirrors.aliyun.com/pypi/packages/9d/3f/f08f5d1422d74ed0e1e612870b343bfcc26313bdf9efec9165c3ea4b3ae2/openbabel-3.1.1.1.tar.gz (82 kB)\n",
      "\u001b[2K     \u001b[90m━━━━━━━━━━━━━━━━━━━━━━━━━━━━━━━━━━━━━━━━\u001b[0m \u001b[32m82.8/82.8 kB\u001b[0m \u001b[31m7.8 MB/s\u001b[0m eta \u001b[36m0:00:00\u001b[0m\n",
      "\u001b[?25h  Preparing metadata (setup.py) ... \u001b[?25ldone\n",
      "\u001b[?25hRequirement already satisfied: numpy in /opt/conda/envs/python35-paddle120-env/lib/python3.7/site-packages (from plip) (1.21.6)\n",
      "Requirement already satisfied: lxml in /opt/conda/envs/python35-paddle120-env/lib/python3.7/site-packages (from plip) (4.9.1)\n",
      "Building wheels for collected packages: openbabel\n",
      "  Building wheel for openbabel (setup.py) ... \u001b[?25lerror\n",
      "  \u001b[1;31merror\u001b[0m: \u001b[1msubprocess-exited-with-error\u001b[0m\n",
      "  \n",
      "  \u001b[31m×\u001b[0m \u001b[32mpython setup.py bdist_wheel\u001b[0m did not run successfully.\n",
      "  \u001b[31m│\u001b[0m exit code: \u001b[1;36m1\u001b[0m\n",
      "  \u001b[31m╰─>\u001b[0m \u001b[31m[66 lines of output]\u001b[0m\n",
      "  \u001b[31m   \u001b[0m running bdist_wheel\n",
      "  \u001b[31m   \u001b[0m running build\n",
      "  \u001b[31m   \u001b[0m running build_ext\n",
      "  \u001b[31m   \u001b[0m Warning: invalid version number '3.1.1.1'.\n",
      "  \u001b[31m   \u001b[0m Guessing Open Babel location:\n",
      "  \u001b[31m   \u001b[0m - include_dirs: ['/opt/conda/envs/python35-paddle120-env/include/python3.7m', '/usr/local/include/openbabel3']\n",
      "  \u001b[31m   \u001b[0m - library_dirs: ['/usr/local/lib']\n",
      "  \u001b[31m   \u001b[0m building 'openbabel._openbabel' extension\n",
      "  \u001b[31m   \u001b[0m swigging openbabel/openbabel-python.i to openbabel/openbabel-python_wrap.cpp\n",
      "  \u001b[31m   \u001b[0m swig -python -c++ -small -O -templatereduce -naturalvar -I/opt/conda/envs/python35-paddle120-env/include/python3.7m -I/usr/local/include/openbabel3 -o openbabel/openbabel-python_wrap.cpp openbabel/openbabel-python.i\n",
      "  \u001b[31m   \u001b[0m openbabel/openbabel-python.i:246: Error: Unable to find 'openbabel/babelconfig.h'\n",
      "  \u001b[31m   \u001b[0m openbabel/openbabel-python.i:248: Error: Unable to find 'openbabel/data.h'\n",
      "  \u001b[31m   \u001b[0m openbabel/openbabel-python.i:249: Error: Unable to find 'openbabel/obutil.h'\n",
      "  \u001b[31m   \u001b[0m openbabel/openbabel-python.i:250: Error: Unable to find 'openbabel/math/vector3.h'\n",
      "  \u001b[31m   \u001b[0m openbabel/openbabel-python.i:252: Error: Unable to find 'openbabel/math/matrix3x3.h'\n",
      "  \u001b[31m   \u001b[0m openbabel/openbabel-python.i:253: Error: Unable to find 'openbabel/math/transform3d.h'\n",
      "  \u001b[31m   \u001b[0m openbabel/openbabel-python.i:254: Error: Unable to find 'openbabel/math/spacegroup.h'\n",
      "  \u001b[31m   \u001b[0m openbabel/openbabel-python.i:256: Error: Unable to find 'openbabel/bitvec.h'\n",
      "  \u001b[31m   \u001b[0m openbabel/openbabel-python.i:260: Error: Unable to find 'openbabel/base.h'\n",
      "  \u001b[31m   \u001b[0m openbabel/openbabel-python.i:262: Error: Unable to find 'openbabel/generic.h'\n",
      "  \u001b[31m   \u001b[0m openbabel/openbabel-python.i:265: Error: Unable to find 'openbabel/griddata.h'\n",
      "  \u001b[31m   \u001b[0m openbabel/openbabel-python.i:267: Error: Unable to find 'openbabel/chains.h'\n",
      "  \u001b[31m   \u001b[0m openbabel/openbabel-python.i:268: Error: Unable to find 'openbabel/typer.h'\n",
      "  \u001b[31m   \u001b[0m openbabel/openbabel-python.i:276: Error: Unable to find 'openbabel/plugin.h'\n",
      "  \u001b[31m   \u001b[0m openbabel/openbabel-python.i:281: Error: Unable to find 'openbabel/oberror.h'\n",
      "  \u001b[31m   \u001b[0m openbabel/openbabel-python.i:282: Error: Unable to find 'openbabel/format.h'\n",
      "  \u001b[31m   \u001b[0m openbabel/openbabel-python.i:283: Error: Unable to find 'openbabel/obconversion.h'\n",
      "  \u001b[31m   \u001b[0m openbabel/openbabel-python.i:284: Error: Unable to find 'openbabel/obfunctions.h'\n",
      "  \u001b[31m   \u001b[0m openbabel/openbabel-python.i:295: Error: Unable to find 'openbabel/elements.h'\n",
      "  \u001b[31m   \u001b[0m openbabel/openbabel-python.i:296: Error: Unable to find 'openbabel/residue.h'\n",
      "  \u001b[31m   \u001b[0m openbabel/openbabel-python.i:297: Error: Unable to find 'openbabel/internalcoord.h'\n",
      "  \u001b[31m   \u001b[0m openbabel/openbabel-python.i:298: Error: Unable to find 'openbabel/atom.h'\n",
      "  \u001b[31m   \u001b[0m openbabel/openbabel-python.i:299: Error: Unable to find 'openbabel/bond.h'\n",
      "  \u001b[31m   \u001b[0m openbabel/openbabel-python.i:300: Error: Unable to find 'openbabel/reaction.h'\n",
      "  \u001b[31m   \u001b[0m openbabel/openbabel-python.i:301: Error: Unable to find 'openbabel/reactionfacade.h'\n",
      "  \u001b[31m   \u001b[0m openbabel/openbabel-python.i:319: Error: Unable to find 'openbabel/mol.h'\n",
      "  \u001b[31m   \u001b[0m openbabel/openbabel-python.i:326: Error: Unable to find 'openbabel/ring.h'\n",
      "  \u001b[31m   \u001b[0m openbabel/openbabel-python.i:327: Error: Unable to find 'openbabel/parsmart.h'\n",
      "  \u001b[31m   \u001b[0m openbabel/openbabel-python.i:328: Error: Unable to find 'openbabel/alias.h'\n",
      "  \u001b[31m   \u001b[0m openbabel/openbabel-python.i:330: Error: Unable to find 'openbabel/fingerprint.h'\n",
      "  \u001b[31m   \u001b[0m openbabel/openbabel-python.i:332: Error: Unable to find 'openbabel/descriptor.h'\n",
      "  \u001b[31m   \u001b[0m openbabel/openbabel-python.i:343: Error: Unable to find 'openbabel/forcefield.h'\n",
      "  \u001b[31m   \u001b[0m openbabel/openbabel-python.i:345: Error: Unable to find 'openbabel/builder.h'\n",
      "  \u001b[31m   \u001b[0m openbabel/openbabel-python.i:346: Error: Unable to find 'openbabel/op.h'\n",
      "  \u001b[31m   \u001b[0m openbabel/openbabel-python.i:348: Error: Unable to find 'openbabel/chargemodel.h'\n",
      "  \u001b[31m   \u001b[0m openbabel/openbabel-python.i:351: Error: Unable to find 'openbabel/phmodel.h'\n",
      "  \u001b[31m   \u001b[0m openbabel/openbabel-python.i:352: Error: Unable to find 'openbabel/graphsym.h'\n",
      "  \u001b[31m   \u001b[0m openbabel/openbabel-python.i:353: Error: Unable to find 'openbabel/isomorphism.h'\n",
      "  \u001b[31m   \u001b[0m openbabel/openbabel-python.i:354: Error: Unable to find 'openbabel/query.h'\n",
      "  \u001b[31m   \u001b[0m openbabel/openbabel-python.i:355: Error: Unable to find 'openbabel/canon.h'\n",
      "  \u001b[31m   \u001b[0m openbabel/openbabel-python.i:357: Error: Unable to find 'openbabel/stereo/stereo.h'\n",
      "  \u001b[31m   \u001b[0m openbabel/openbabel-python.i:361: Error: Unable to find 'openbabel/rotor.h'\n",
      "  \u001b[31m   \u001b[0m openbabel/openbabel-python.i:363: Error: Unable to find 'openbabel/rotamer.h'\n",
      "  \u001b[31m   \u001b[0m openbabel/openbabel-python.i:364: Error: Unable to find 'openbabel/spectrophore.h'\n",
      "  \u001b[31m   \u001b[0m openbabel/openbabel-python.i:435: Error: Unable to find 'openbabel/obiter.h'\n",
      "  \u001b[31m   \u001b[0m openbabel/stereo.i:1: Error: Unable to find 'openbabel/stereo/tetranonplanar.h'\n",
      "  \u001b[31m   \u001b[0m openbabel/stereo.i:2: Error: Unable to find 'openbabel/stereo/tetraplanar.h'\n",
      "  \u001b[31m   \u001b[0m openbabel/stereo.i:3: Error: Unable to find 'openbabel/stereo/tetrahedral.h'\n",
      "  \u001b[31m   \u001b[0m openbabel/stereo.i:4: Error: Unable to find 'openbabel/stereo/cistrans.h'\n",
      "  \u001b[31m   \u001b[0m openbabel/stereo.i:5: Error: Unable to find 'openbabel/stereo/squareplanar.h'\n",
      "  \u001b[31m   \u001b[0m openbabel/stereo.i:6: Error: Unable to find 'openbabel/stereo/bindings.h'\n",
      "  \u001b[31m   \u001b[0m \n",
      "  \u001b[31m   \u001b[0m Error: SWIG failed. Is Open Babel installed?\n",
      "  \u001b[31m   \u001b[0m You may need to manually specify the location of Open Babel include and library directories. For example:\n",
      "  \u001b[31m   \u001b[0m   python setup.py build_ext -I/usr/local/include/openbabel3 -L/usr/local/lib\n",
      "  \u001b[31m   \u001b[0m   python setup.py install\n",
      "  \u001b[31m   \u001b[0m \u001b[31m[end of output]\u001b[0m\n",
      "  \n",
      "  \u001b[1;35mnote\u001b[0m: This error originates from a subprocess, and is likely not a problem with pip.\n",
      "\u001b[31m  ERROR: Failed building wheel for openbabel\u001b[0m\u001b[31m\n",
      "\u001b[0m\u001b[?25h  Running setup.py clean for openbabel\n",
      "Failed to build openbabel\n",
      "\u001b[31mERROR: Could not build wheels for openbabel, which is required to install pyproject.toml-based projects\u001b[0m\u001b[31m\n",
      "\u001b[0m"
     ]
    }
   ],
   "source": [
    "! pip install plip\n",
    "\n"
   ]
  }
 ],
 "metadata": {
  "kernelspec": {
   "display_name": "Python 3.7.4 ('python35-paddle120-env')",
   "language": "python",
   "name": "python3"
  },
  "language_info": {
   "codemirror_mode": {
    "name": "ipython",
    "version": 3
   },
   "file_extension": ".py",
   "mimetype": "text/x-python",
   "name": "python",
   "nbconvert_exporter": "python",
   "pygments_lexer": "ipython3",
   "version": "3.7.4"
  },
  "vscode": {
   "interpreter": {
    "hash": "09f0dbf7b1569c1ab842ae2f41770fe6aa1b54326d081112fa5944b99abb5899"
   }
  }
 },
 "nbformat": 4,
 "nbformat_minor": 2
}
