{
 "cells": [
  {
   "cell_type": "code",
   "execution_count": null,
   "metadata": {},
   "outputs": [],
   "source": [
    "# 安装必要的第三方库\n",
    "from IPython.display import clear_output\n",
    "!pip install --upgrade pip\n",
    "!pip install rdkit\n",
    "!pip install scikit-learn==1.0.2\n",
    "!pip install -U scipy\n",
    "!pip install -U seaborn\n",
    "!pip install pgl==2.2.3\n",
    "!pip install -U numpy\n",
    "clear_output()\n",
    "print('安装完成')"
   ]
  }
 ],
 "metadata": {
  "kernelspec": {
   "display_name": "base",
   "language": "python",
   "name": "python3"
  },
  "language_info": {
   "name": "python",
   "version": "3.7.12"
  }
 },
 "nbformat": 4,
 "nbformat_minor": 2
}
