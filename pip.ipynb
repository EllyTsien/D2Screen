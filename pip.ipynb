{
 "cells": [
  {
   "cell_type": "code",
   "execution_count": 1,
   "metadata": {},
   "outputs": [
    {
     "name": "stdout",
     "output_type": "stream",
     "text": [
      "安装完成\n"
     ]
    }
   ],
   "source": [
    "# 安装必要的第三方库\n",
    "from IPython.display import clear_output\n",
    "!pip install --upgrade pip\n",
    "!pip install rdkit\n",
    "!pip install scikit-learn==1.0.2\n",
    "!pip install -U scipy\n",
    "!pip install -U seaborn\n",
    "!pip install pgl==2.2.3\n",
    "!pip install -U numpy\n",
    "clear_output()\n",
    "print('安装完成')"
   ]
  }
 ],
 "metadata": {
  "kernelspec": {
   "display_name": "Python 3.7.4 ('python35-paddle120-env')",
   "language": "python",
   "name": "python3"
  },
  "language_info": {
   "codemirror_mode": {
    "name": "ipython",
    "version": 3
   },
   "file_extension": ".py",
   "mimetype": "text/x-python",
   "name": "python",
   "nbconvert_exporter": "python",
   "pygments_lexer": "ipython3",
   "version": "3.7.4"
  },
  "vscode": {
   "interpreter": {
    "hash": "09f0dbf7b1569c1ab842ae2f41770fe6aa1b54326d081112fa5944b99abb5899"
   }
  }
 },
 "nbformat": 4,
 "nbformat_minor": 2
}
