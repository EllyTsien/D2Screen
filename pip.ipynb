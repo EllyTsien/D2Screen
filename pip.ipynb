{
 "cells": [
  {
   "cell_type": "code",
   "execution_count": 1,
   "metadata": {},
   "outputs": [
    {
     "name": "stdout",
     "output_type": "stream",
     "text": [
      "安装完成\n"
     ]
    }
   ],
   "source": [
    "# 安装必要的第三方库\n",
    "from IPython.display import clear_output\n",
    "!pip install --upgrade pip\n",
    "!pip install rdkit\n",
    "!pip install scikit-learn==1.0.2\n",
    "!pip install -U scipy\n",
    "!pip install -U seaborn\n",
    "!pip install pgl==2.2.3\n",
    "!pip install -U numpy\n",
    "clear_output()\n",
    "print('安装完成')"
   ]
  },
  {
   "cell_type": "code",
   "execution_count": 2,
   "metadata": {},
   "outputs": [
    {
     "name": "stdout",
     "output_type": "stream",
     "text": [
      "Looking in indexes: https://mirror.baidu.com/pypi/simple/, https://mirrors.aliyun.com/pypi/simple/\n",
      "Collecting meeko\n",
      "  Downloading https://mirrors.aliyun.com/pypi/packages/e6/68/0fb8cfde91aac2fdb8377048043c70f1d7630bcdeb08398b0308c612ee53/meeko-0.5.1-py3-none-any.whl (129 kB)\n",
      "\u001b[2K     \u001b[90m━━━━━━━━━━━━━━━━━━━━━━━━━━━━━━━━━━━━━━━\u001b[0m \u001b[32m130.0/130.0 kB\u001b[0m \u001b[31m1.4 MB/s\u001b[0m eta \u001b[36m0:00:00\u001b[0ma \u001b[36m0:00:01\u001b[0m\n",
      "\u001b[?25hRequirement already satisfied: numpy>=1.18 in /opt/conda/envs/python35-paddle120-env/lib/python3.7/site-packages (from meeko) (1.21.6)\n",
      "Installing collected packages: meeko\n",
      "Successfully installed meeko-0.5.1\n"
     ]
    }
   ],
   "source": [
    "! pip install meeko\n"
   ]
  },
  {
   "cell_type": "code",
   "execution_count": 3,
   "metadata": {},
   "outputs": [
    {
     "name": "stdout",
     "output_type": "stream",
     "text": [
      "Looking in indexes: https://mirror.baidu.com/pypi/simple/, https://mirrors.aliyun.com/pypi/simple/\n",
      "Requirement already satisfied: numpy in /opt/conda/envs/python35-paddle120-env/lib/python3.7/site-packages (1.21.6)\n",
      "\u001b[33mWARNING: Skipping page https://mirror.baidu.com/pypi/simple/numpy/ because the GET request got Content-Type: application/octet-stream. The only supported Content-Types are application/vnd.pypi.simple.v1+json, application/vnd.pypi.simple.v1+html, and text/html\u001b[0m\u001b[33m\n",
      "\u001b[0mCollecting vina\n",
      "  Downloading https://mirrors.aliyun.com/pypi/packages/c0/36/9e1235a16e1293b924baa487e743e28a6ba7728040e0a7a5709bd196b5a0/vina-1.2.5-cp37-cp37m-manylinux_2_17_x86_64.manylinux2014_x86_64.whl (7.3 MB)\n",
      "\u001b[2K     \u001b[90m━━━━━━━━━━━━━━━━━━━━━━━━━━━━━━━━━━━━━━━━\u001b[0m \u001b[32m7.3/7.3 MB\u001b[0m \u001b[31m6.8 MB/s\u001b[0m eta \u001b[36m0:00:00\u001b[0m00:01\u001b[0m00:01\u001b[0mm\n",
      "\u001b[?25hInstalling collected packages: vina\n",
      "Successfully installed vina-1.2.5\n"
     ]
    }
   ],
   "source": [
    "! pip install -U numpy vina"
   ]
  },
  {
   "cell_type": "code",
   "execution_count": 2,
   "metadata": {},
   "outputs": [
    {
     "name": "stdout",
     "output_type": "stream",
     "text": [
      "Collecting package metadata (current_repodata.json): failed\n",
      "\n",
      "# >>>>>>>>>>>>>>>>>>>>>> ERROR REPORT <<<<<<<<<<<<<<<<<<<<<<\n",
      "\n",
      "    Traceback (most recent call last):\n",
      "      File \"/opt/conda/lib/python3.6/site-packages/conda/gateways/connection/session.py\", line 60, in __call__\n",
      "        return cls._thread_local.session\n",
      "    AttributeError: '_thread._local' object has no attribute 'session'\n",
      "    \n",
      "    During handling of the above exception, another exception occurred:\n",
      "    \n",
      "    Traceback (most recent call last):\n",
      "      File \"/opt/conda/lib/python3.6/site-packages/conda/exceptions.py\", line 1079, in __call__\n",
      "        return func(*args, **kwargs)\n",
      "      File \"/opt/conda/lib/python3.6/site-packages/conda/cli/main.py\", line 84, in _main\n",
      "        exit_code = do_call(args, p)\n",
      "      File \"/opt/conda/lib/python3.6/site-packages/conda/cli/conda_argparse.py\", line 83, in do_call\n",
      "        return getattr(module, func_name)(args, parser)\n",
      "      File \"/opt/conda/lib/python3.6/site-packages/conda/cli/main_install.py\", line 20, in execute\n",
      "        install(args, parser, 'install')\n",
      "      File \"/opt/conda/lib/python3.6/site-packages/conda/cli/install.py\", line 265, in install\n",
      "        should_retry_solve=(_should_retry_unfrozen or repodata_fn != repodata_fns[-1]),\n",
      "      File \"/opt/conda/lib/python3.6/site-packages/conda/core/solve.py\", line 117, in solve_for_transaction\n",
      "        should_retry_solve)\n",
      "      File \"/opt/conda/lib/python3.6/site-packages/conda/core/solve.py\", line 158, in solve_for_diff\n",
      "        force_remove, should_retry_solve)\n",
      "      File \"/opt/conda/lib/python3.6/site-packages/conda/core/solve.py\", line 262, in solve_final_state\n",
      "        ssc = self._collect_all_metadata(ssc)\n",
      "      File \"/opt/conda/lib/python3.6/site-packages/conda/common/io.py\", line 88, in decorated\n",
      "        return f(*args, **kwds)\n",
      "      File \"/opt/conda/lib/python3.6/site-packages/conda/core/solve.py\", line 425, in _collect_all_metadata\n",
      "        index, r = self._prepare(prepared_specs)\n",
      "      File \"/opt/conda/lib/python3.6/site-packages/conda/core/solve.py\", line 1021, in _prepare\n",
      "        self.subdirs, prepared_specs, self._repodata_fn)\n",
      "      File \"/opt/conda/lib/python3.6/site-packages/conda/core/index.py\", line 289, in get_reduced_index\n",
      "        repodata_fn=repodata_fn)\n",
      "      File \"/opt/conda/lib/python3.6/site-packages/conda/core/subdir_data.py\", line 140, in query_all\n",
      "        result = tuple(concat(executor.map(subdir_query, channel_urls)))\n",
      "      File \"/opt/conda/lib/python3.6/concurrent/futures/_base.py\", line 586, in result_iterator\n",
      "        yield fs.pop().result()\n",
      "      File \"/opt/conda/lib/python3.6/concurrent/futures/_base.py\", line 432, in result\n",
      "        return self.__get_result()\n",
      "      File \"/opt/conda/lib/python3.6/concurrent/futures/_base.py\", line 384, in __get_result\n",
      "        raise self._exception\n",
      "      File \"/opt/conda/lib/python3.6/concurrent/futures/thread.py\", line 56, in run\n",
      "        result = self.fn(*self.args, **self.kwargs)\n",
      "      File \"/opt/conda/lib/python3.6/site-packages/conda/core/subdir_data.py\", line 133, in <lambda>\n",
      "        package_ref_or_match_spec))\n",
      "      File \"/opt/conda/lib/python3.6/site-packages/conda/core/subdir_data.py\", line 145, in query\n",
      "        self.load()\n",
      "      File \"/opt/conda/lib/python3.6/site-packages/conda/core/subdir_data.py\", line 209, in load\n",
      "        _internal_state = self._load()\n",
      "      File \"/opt/conda/lib/python3.6/site-packages/conda/core/subdir_data.py\", line 375, in _load\n",
      "        repodata_fn=self.repodata_fn)\n",
      "      File \"/opt/conda/lib/python3.6/site-packages/conda/core/subdir_data.py\", line 680, in fetch_repodata_remote_request\n",
      "        session = CondaSession()\n",
      "      File \"/opt/conda/lib/python3.6/site-packages/conda/gateways/connection/session.py\", line 62, in __call__\n",
      "        session = cls._thread_local.session = super(CondaSessionType, cls).__call__()\n",
      "      File \"/opt/conda/lib/python3.6/site-packages/conda/gateways/connection/session.py\", line 88, in __init__\n",
      "        raise_on_status=False)\n",
      "    TypeError: __init__() got an unexpected keyword argument 'raise_on_status'\n",
      "\n",
      "`$ /opt/conda/condabin/conda install openbabel`\n",
      "\n",
      "  environment variables:\n",
      "                 CIO_TEST=<not set>\n",
      "        CONDA_DEFAULT_ENV=python35-paddle120-env\n",
      "                CONDA_EXE=/opt/conda/bin/conda\n",
      "             CONDA_PREFIX=/opt/conda/envs/python35-paddle120-env\n",
      "    CONDA_PROMPT_MODIFIER=(python35-paddle120-env)\n",
      "         CONDA_PYTHON_EXE=/opt/conda/bin/python\n",
      "               CONDA_ROOT=/opt/conda\n",
      "              CONDA_SHLVL=1\n",
      "           CURL_CA_BUNDLE=<not set>\n",
      "IDE_HUB_PROXY_1_SERVICE_PORT_PROXY=<set>\n",
      "          LD_LIBRARY_PATH=/usr/local/cuda-11.2/targets/x86_64-linux/lib/:/usr/local/cuda-11.2/li\n",
      "                          b64:/usr/local/cuda-11.2/targets/x86_64-linux/:/usr/lib/x86_64-linux-\n",
      "                          gnu:/usr/local/cuda/lib64:/opt/conda/envs/python35-paddle120-env/lib\n",
      "                     PATH=/opt/conda/envs/python35-paddle120-env/bin:/opt/conda/condabin:/opt/co\n",
      "                          nda/include/vscode/vscode/bin/remote-cli:/usr/local/cuda/bin:/home/ais\n",
      "                          tudio/.data/webide/pip/bin:/opt/conda/envs/python35-paddle120-env/bin:\n",
      "                          /opt/conda/envs/python27-paddle120-env/bin:/opt/conda/bin:/opt/conda/e\n",
      "                          nvs/webide/bin:/usr/local/sbin:/usr/local/bin:/usr/sbin:/usr/bin:/sbin\n",
      "                          :/bin:/usr/lib/nodejs/bin:/usr/lib/nodejs/node_modules/yarn/bin:/usr/l\n",
      "                          ib/jvm/jdk1.8.0_391/bin:/usr/lib/go/bin:/opt/conda/include/vscode/vsco\n",
      "                          de/bin\n",
      "         PYTHONIOENCODING=utf-8\n",
      "         PYTHONUNBUFFERED=1\n",
      "           PYTHONUSERBASE=/home/aistudio/.data/webide/pip\n",
      "       REQUESTS_CA_BUNDLE=<not set>\n",
      "            SSL_CERT_FILE=<not set>\n",
      "WEBIDE_AICODER_NLP_MODEL_PATH=/opt/conda/include/aimodel/aistudio-finetune.pdmodel\n",
      "WEBIDE_AICODER_NLP_PARAMS_PATH=/opt/conda/include/aimodel/aistudio-finetune.pdiparams\n",
      "WEBIDE_SPECIFIED_DISK_PATH=/home/aistudio/\n",
      "   WEBIDE_SYS_PYTHON_PATH=/opt/conda/envs/webide/bin\n",
      "  WEBIDE_USER_PYTHON_PATH=/opt/conda/envs/python35-paddle120-env/bin\n",
      "\n",
      "     active environment : python35-paddle120-env\n",
      "    active env location : /opt/conda/envs/python35-paddle120-env\n",
      "            shell level : 1\n",
      "       user config file : /home/aistudio/.condarc\n",
      " populated config files : /home/aistudio/.condarc\n",
      "          conda version : 4.10.1\n",
      "    conda-build version : not installed\n",
      "         python version : 3.6.8.final.0\n",
      "       virtual packages : __cuda=12.0=0\n",
      "                          __linux=5.4.0=0\n",
      "                          __glibc=2.23=0\n",
      "                          __unix=0=0\n",
      "                          __archspec=1=x86_64\n",
      "       base environment : /opt/conda  (writable)\n",
      "      conda av data dir : /opt/conda/etc/conda\n",
      "  conda av metadata url : https://repo.anaconda.com/pkgs/main\n",
      "           channel URLs : https://conda.anaconda.org/conda-forge/linux-64\n",
      "                          https://conda.anaconda.org/conda-forge/noarch\n",
      "                          https://repo.anaconda.com/pkgs/main/linux-64\n",
      "                          https://repo.anaconda.com/pkgs/main/noarch\n",
      "                          https://repo.anaconda.com/pkgs/r/linux-64\n",
      "                          https://repo.anaconda.com/pkgs/r/noarch\n",
      "          package cache : /opt/conda/pkgs\n",
      "                          /home/aistudio/.conda/pkgs\n",
      "       envs directories : /opt/conda/envs\n",
      "                          /home/aistudio/.conda/envs\n",
      "               platform : linux-64\n",
      "             user-agent : conda/4.10.1 requests/2.22.0 CPython/3.6.8 Linux/5.4.0-139-generic ubuntu/16.04.6 glibc/2.23\n",
      "                UID:GID : 1000:1000\n",
      "             netrc file : None\n",
      "           offline mode : False\n",
      "\n",
      "\n",
      "An unexpected error has occurred. Conda has prepared the above report.\n",
      "\n",
      "If submitted, this report will be used by core maintainers to improve\n",
      "future releases of conda.\n",
      "Would you like conda to send this report to the core maintainers?\n",
      "\n",
      "[y/N]: \n",
      "Timeout reached. No report sent.\n",
      "\n"
     ]
    }
   ],
   "source": [
    "! conda install openbabel\n"
   ]
  }
 ],
 "metadata": {
  "kernelspec": {
   "display_name": "Python 3.7.4 ('python35-paddle120-env')",
   "language": "python",
   "name": "python3"
  },
  "language_info": {
   "codemirror_mode": {
    "name": "ipython",
    "version": 3
   },
   "file_extension": ".py",
   "mimetype": "text/x-python",
   "name": "python",
   "nbconvert_exporter": "python",
   "pygments_lexer": "ipython3",
   "version": "3.7.4"
  },
  "vscode": {
   "interpreter": {
    "hash": "09f0dbf7b1569c1ab842ae2f41770fe6aa1b54326d081112fa5944b99abb5899"
   }
  }
 },
 "nbformat": 4,
 "nbformat_minor": 2
}
