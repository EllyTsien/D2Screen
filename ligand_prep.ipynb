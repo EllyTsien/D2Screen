{
 "cells": [
  {
   "cell_type": "code",
   "execution_count": 7,
   "metadata": {},
   "outputs": [],
   "source": [
    "from meeko import MoleculePreparation\n",
    "from rdkit import Chem\n",
    "from rdkit.Chem import AllChem\n",
    "import pandas as pd\n",
    "from meeko import MoleculePreparation\n",
    "\n",
    "class LigandPrep:\n",
    "    def __init__(self, smiles: str):\n",
    "        \"\"\"\n",
    "        初始化LigandPrep类。\n",
    "        \n",
    "        :param smiles: 分子的SMILES字符串\n",
    "        \"\"\"\n",
    "        self.smiles = smiles\n",
    "        \n",
    "\n",
    "    def smile2sdf(self, output_file: str):\n",
    "        \"\"\"\n",
    "        准备分子并保存为sdf文件。\n",
    "        \n",
    "        :param output_file: 输出sdf文件的路径\n",
    "        \"\"\"\n",
    "        # 添加3D坐标\n",
    "        output_file_pdbqt = output_file.split(\".\")[0] + '.pdbqt'\n",
    "        self.rdkit_mol = Chem.MolFromSmiles(smiles)\n",
    "        self.rdkit_mol = Chem.AddHs(self.rdkit_mol)  # 添加氢原子\n",
    "        if AllChem.EmbedMolecule(self.rdkit_mol) != 0:\n",
    "            raise ValueError(f\"无法为分子生成3D坐标: {smiles}\")\n",
    "        # AllChem.UFFOptimizeMolecule(self.rdkit_mol)  # 优化分子构象, UFF\n",
    "        AllChem.MMFFOptimizeMolecule(self.rdkit_mol) # 优化分子构象\n",
    "        Chem.MolToMolFile(self.rdkit_mol, output_file)\n",
    "        AllChem.EmbedMolecule(self.rdkit_mol)\n",
    "        sdf2pdbqt_prep = MoleculePreparation()\n",
    "        sdf2pdbqt_prep.prepare(self.rdkit_mol)\n",
    "        sdf2pdbqt_prep.write_pdbqt_file(output_file_pdbqt)"
   ]
  },
  {
   "cell_type": "code",
   "execution_count": 8,
   "metadata": {},
   "outputs": [
    {
     "name": "stderr",
     "output_type": "stream",
     "text": [
      "/opt/conda/envs/python35-paddle120-env/lib/python3.7/site-packages/meeko/preparation.py:240: DeprecationWarning: MoleculePreparation.write_pdbqt_file() is deprecated since Meeko v0.5\n",
      "  warnings.warn(\"MoleculePreparation.write_pdbqt_file() is deprecated since Meeko v0.5\", DeprecationWarning)\n",
      "/opt/conda/envs/python35-paddle120-env/lib/python3.7/site-packages/meeko/preparation.py:230: DeprecationWarning: MoleculePreparation.write_pdbqt_string() is deprecated in Meeko v0.5. Pass the MoleculeSetup instance to PDBQTWriterLegacy.write_string(). MoleculePreparation.prepare() returns a list of MoleculeSetup instances.\n",
      "  warnings.warn(msg, DeprecationWarning)\n",
      "/opt/conda/envs/python35-paddle120-env/lib/python3.7/site-packages/meeko/preparation.py:93: DeprecationWarning: MoleculePreparation.setup is deprecated in Meeko v0.5. MoleculePreparation.prepare() returns a list of MoleculeSetup instances.\n",
      "  warnings.warn(msg, DeprecationWarning)\n"
     ]
    },
    {
     "name": "stdout",
     "output_type": "stream",
     "text": [
      "分子已保存为 ligand_200493.sdf\n",
      "分子已保存为 ligand_201017.sdf\n",
      "分子已保存为 ligand_200937.sdf\n",
      "分子已保存为 ligand_200259.sdf\n"
     ]
    }
   ],
   "source": [
    "\n",
    "# 读取CSV文件\n",
    "df = pd.read_csv(\"datasets/DL_pred/top.csv\")\n",
    "\n",
    "# 遍历每一行并处理SMILES字符串\n",
    "for index, row in df.iterrows():\n",
    "    smiles = row['SMILES']\n",
    "    ligand_id = row['ID']\n",
    "    output_file = f\"ligand_{ligand_id}.sdf\"\n",
    "    \n",
    "    try:\n",
    "        ligand_prep = LigandPrep(smiles)\n",
    "        ligand_prep.smile2sdf(output_file)\n",
    "        print(f\"分子已保存为 {output_file}\")\n",
    "    except ValueError as e:\n",
    "        print(f\"行 {index} 的 SMILES 无效: {smiles}\")\n"
   ]
  }
 ],
 "metadata": {
  "kernelspec": {
   "display_name": "Python 3.7.4 ('python35-paddle120-env')",
   "language": "python",
   "name": "python3"
  },
  "language_info": {
   "codemirror_mode": {
    "name": "ipython",
    "version": 3
   },
   "file_extension": ".py",
   "mimetype": "text/x-python",
   "name": "python",
   "nbconvert_exporter": "python",
   "pygments_lexer": "ipython3",
   "version": "3.7.4"
  },
  "orig_nbformat": 4,
  "vscode": {
   "interpreter": {
    "hash": "09f0dbf7b1569c1ab842ae2f41770fe6aa1b54326d081112fa5944b99abb5899"
   }
  }
 },
 "nbformat": 4,
 "nbformat_minor": 2
}
